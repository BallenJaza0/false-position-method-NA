{
  "nbformat": 4,
  "nbformat_minor": 0,
  "metadata": {
    "colab": {
      "provenance": [],
      "authorship_tag": "ABX9TyOVfgvkiZO2yMOHRoeCY/hv",
      "include_colab_link": true
    },
    "kernelspec": {
      "name": "python3",
      "display_name": "Python 3"
    },
    "language_info": {
      "name": "python"
    }
  },
  "cells": [
    {
      "cell_type": "markdown",
      "metadata": {
        "id": "view-in-github",
        "colab_type": "text"
      },
      "source": [
        "<a href=\"https://colab.research.google.com/github/BallenJaza0/false-position-method-NA/blob/main/false_position_method.ipynb\" target=\"_parent\"><img src=\"https://colab.research.google.com/assets/colab-badge.svg\" alt=\"Open In Colab\"/></a>"
      ]
    },
    {
      "cell_type": "code",
      "execution_count": null,
      "metadata": {
        "colab": {
          "base_uri": "https://localhost:8080/"
        },
        "id": "6ayYTdfirjDy",
        "outputId": "f21040ea-7d00-4079-aba2-55ffa4d0a729"
      },
      "outputs": [
        {
          "output_type": "stream",
          "name": "stdout",
          "text": [
            "the error remaining is 0.049841028686740285, after 19 iteration \n",
            "(the root approximately found at 0.44070327149254573\n",
            "0.44070327149254573\n"
          ]
        }
      ],
      "source": [
        "def false_Postion(func, a, b, error_accept):\n",
        "  def f(x):\n",
        "    f = eval(func)\n",
        "    return f\n",
        "\n",
        "\n",
        "  r=0\n",
        "  c_bf = 0\n",
        "  c = (a * f(b) - b * f(a)) / (f(b) - f(a))\n",
        "  error = abs(c - c_bf)\n",
        "\n",
        "  while error > error_accept:\n",
        "\n",
        "    c_af = (a * f(b) - b * f(a)) / (f(b) - f(a))\n",
        "\n",
        "    if  f(a) * f(b) >= 0:\n",
        "      print(\"there is no root\")\n",
        "      quit()\n",
        "\n",
        "      \n",
        "    elif  f(c_af) * f(a) < 0:\n",
        "      error = abs(c_af-b)\n",
        "      b = c_af\n",
        "      r = r+1\n",
        "\n",
        "\n",
        "    elif  f(c_af) * f(b) < 0:\n",
        "      error = abs(c_af-a)\n",
        "      a = c_af\n",
        "      r = r+1\n",
        "\n",
        "\n",
        "    else:\n",
        "      print(\"something wrong\")\n",
        "      quit()\n",
        "\n",
        "\n",
        "  print(f\"the error remaining is {error}, after {r} iteration \")   \n",
        "  print(f\"(the root approximately found at {c_af}\")\n",
        "  print(f\"{a}\")\n",
        "\n",
        "\n",
        "\n",
        "\n",
        "\n",
        "\n",
        "false_Postion(\"((x**5) - 1) \", -1,2,0.05)\n",
        "\n",
        "\n"
      ]
    }
  ]
}